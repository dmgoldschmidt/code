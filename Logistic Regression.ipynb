{
 "metadata": {
  "name": "Logistic Regression"
 },
 "nbformat": 3,
 "nbformat_minor": 0,
 "worksheets": [
  {
   "cells": [
    {
     "cell_type": "markdown",
     "metadata": {},
     "source": [
      "Recall that given a binary dependent variable (goal) $y = \\pm{1}$ and a predictor vector $x$, the conditional probability of $y$ given $x$ and a parameter vector $\\theta$ is\n",
      "\n",
      "$$\n",
      "p(y|x;\\theta) = \\frac{1}{1+e^{-yx\\cdot\\theta}}.\n",
      "$$\n",
      "\n",
      "So the log likelihood of a training data set $(y_i,x_i)~1\\le i\\le N$ is\n",
      "\n",
      "$$\n",
      "L = -\\sum_i\\log(1+e^{-y_ix_i\\cdot\\theta}).\n",
      "$$\n",
      "\n",
      "The (unconstrained) maximum likelihood equations are therefore\n",
      "\n",
      "$$\n",
      "0 = \\frac{\\partial{L}}{\\partial{\\theta_j}} = -\\sum_i\\frac{1}{1+e^{-y_ix_i\\cdot\\theta}}(e^{-y_ix_i\\cdot\\theta})(-y_ix_{ij}) = \\sum_i\\frac{y_ix_{ij}}{1+e^{y_ix_i\\cdot\\theta}} \\quad (1\\le j\\le n).\n",
      "$$\n",
      "\n",
      "Define \n",
      "$$\n",
      "f_j(\\theta) := \\sum_i\\frac{y_ix_{ij}}{1+e^{y_ix_i\\cdot\\theta}},\n",
      "$$\n",
      "\n",
      "and put $\\theta = \\theta_0 + \\Delta\\theta$.  Then substituting the first-order Taylor approximation for $f_j(\\theta)$ at $\\theta = \\theta_0$, we get approximate linear equations in the components of $\\Delta\\theta$: \n",
      "\n",
      "$$\n",
      "0 = f_j(\\theta) \\approx f_j(\\theta_0) + \\sum_{k = 1}^n\\frac{\\partial{f_j}}{\\partial\\theta_k}(\\theta_0)\\Delta\\theta_k = f_j(\\theta_0) - \\sum_k\\sum_i\\frac{y_ix_{ij}}{(1+e^{y_ix_i\\cdot\\theta_0})^2}e^{y_ix_i\\cdot\\theta_0}y_ix_{ik}\\Delta\\theta_k\n",
      "= f_j(\\theta_0) - \\sum_k\\sum_i\\frac{x_{ij}x_{ik}}{(1+e^{y_ix_i\\cdot\\theta_0})(1+e^{-y_ix_i\\cdot\\theta_0})}\\Delta\\theta_k\\quad 1\\le j\\le n.\n",
      "$$\n",
      "\n",
      "So if we have a guess $\\theta_0$ for the MLE solution, we can (hopefully) improve it by solving the above linear equations for $\\Delta\\theta$, replacing $\\theta_0$ with $\\theta_0 + \\Delta\\theta$, and iterating. \n"
     ]
    },
    {
     "cell_type": "code",
     "collapsed": false,
     "input": [],
     "language": "python",
     "metadata": {},
     "outputs": []
    }
   ],
   "metadata": {}
  }
 ]
}