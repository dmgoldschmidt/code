{
 "metadata": {
  "name": "Sandbox"
 },
 "nbformat": 3,
 "nbformat_minor": 0,
 "worksheets": [
  {
   "cells": [
    {
     "cell_type": "code",
     "collapsed": false,
     "input": [
      "import pandas as pd\n",
      "data = pd.read_csv('metadata.csv',index_col='id')"
     ],
     "language": "python",
     "metadata": {},
     "outputs": [],
     "prompt_number": 1
    },
    {
     "cell_type": "code",
     "collapsed": false,
     "input": [
      "data.describe()\n"
     ],
     "language": "python",
     "metadata": {},
     "outputs": [
      {
       "html": [
        "<div style=\"max-height:1000px;max-width:1500px;overflow:auto;\">\n",
        "<table border=\"1\">\n",
        "  <thead>\n",
        "    <tr>\n",
        "      <th></th>\n",
        "      <th>nraters</th>\n",
        "      <th>avg_rating</th>\n",
        "      <th>nviews</th>\n",
        "      <th>nfavorites</th>\n",
        "    </tr>\n",
        "  </thead>\n",
        "  <tbody>\n",
        "    <tr>\n",
        "      <td><strong>count</strong></td>\n",
        "      <td>  12813.000000</td>\n",
        "      <td> 12813.000000</td>\n",
        "      <td> 1.436000e+04</td>\n",
        "      <td> 14360</td>\n",
        "    </tr>\n",
        "    <tr>\n",
        "      <td><strong>mean</strong></td>\n",
        "      <td>   1958.030828</td>\n",
        "      <td>     4.540802</td>\n",
        "      <td> 5.678995e+05</td>\n",
        "      <td>     0</td>\n",
        "    </tr>\n",
        "    <tr>\n",
        "      <td><strong>std</strong></td>\n",
        "      <td>   9659.443302</td>\n",
        "      <td>     0.753403</td>\n",
        "      <td> 3.077536e+06</td>\n",
        "      <td>     0</td>\n",
        "    </tr>\n",
        "    <tr>\n",
        "      <td><strong>min</strong></td>\n",
        "      <td>      1.000000</td>\n",
        "      <td>     1.000000</td>\n",
        "      <td> 1.000000e+00</td>\n",
        "      <td>     0</td>\n",
        "    </tr>\n",
        "    <tr>\n",
        "      <td><strong>25%</strong></td>\n",
        "      <td>      7.000000</td>\n",
        "      <td>     4.493535</td>\n",
        "      <td> 5.060000e+02</td>\n",
        "      <td>     0</td>\n",
        "    </tr>\n",
        "    <tr>\n",
        "      <td><strong>50%</strong></td>\n",
        "      <td>     88.000000</td>\n",
        "      <td>     4.847025</td>\n",
        "      <td> 8.789500e+03</td>\n",
        "      <td>     0</td>\n",
        "    </tr>\n",
        "    <tr>\n",
        "      <td><strong>75%</strong></td>\n",
        "      <td>    764.000000</td>\n",
        "      <td>     5.000000</td>\n",
        "      <td> 1.638118e+05</td>\n",
        "      <td>     0</td>\n",
        "    </tr>\n",
        "    <tr>\n",
        "      <td><strong>max</strong></td>\n",
        "      <td> 411343.000000</td>\n",
        "      <td>     5.000000</td>\n",
        "      <td> 1.091273e+08</td>\n",
        "      <td>     0</td>\n",
        "    </tr>\n",
        "  </tbody>\n",
        "</table>\n",
        "</div>"
       ],
       "output_type": "pyout",
       "prompt_number": 2,
       "text": [
        "             nraters    avg_rating        nviews  nfavorites\n",
        "count   12813.000000  12813.000000  1.436000e+04       14360\n",
        "mean     1958.030828      4.540802  5.678995e+05           0\n",
        "std      9659.443302      0.753403  3.077536e+06           0\n",
        "min         1.000000      1.000000  1.000000e+00           0\n",
        "25%         7.000000      4.493535  5.060000e+02           0\n",
        "50%        88.000000      4.847025  8.789500e+03           0\n",
        "75%       764.000000      5.000000  1.638118e+05           0\n",
        "max    411343.000000      5.000000  1.091273e+08           0"
       ]
      }
     ],
     "prompt_number": 2
    },
    {
     "cell_type": "code",
     "collapsed": false,
     "input": [
      "pd.set_printoptions(max_rows=200, max_columns=10)\n",
      "#print data[:2]\n",
      "print data[100:105]\n",
      "#print data['title'][101]\n"
     ],
     "language": "python",
     "metadata": {},
     "outputs": [
      {
       "output_type": "stream",
       "stream": "stdout",
       "text": [
        "                                                         title                                        description                      date  nraters  avg_rating   nviews  nfavorites\n",
        "id                                                                                                                                                                                   \n",
        "0JLPX3AETuQ  Dave Chappelle (feat. Chris Rock - Funny Commerci  This is a hilarious clip of a fake commercial of   2006-10-29T01:32:06.000Z      992    4.669355   725527           0\n",
        "0jo23K7Cy7A                             HARRY POTEN 2 (teaser)  practice lang! hahaha! there's no such thing as h  2011-10-12T15:19:48.000Z        9    5.000000      573           0\n",
        "0jojOqtzKD8        Not for Air: Batman & Robin Classic Cartoon  I have to give credit where credits are due. This  2006-02-02T03:44:37.000Z     4984    4.751204  2392104           0\n",
        "0jQ6GbOkvH8                10 Most Annoying Cartoon Characters  Here are some \"funny\" cartoon characters we'd sec  2009-03-09T03:13:35.000Z     3110    4.291318  1337825           0\n",
        "0JqtMgiUaf4                 IBM Linux Server Funny Commercials  http://www.3gpclip.com Convert YouTube video for   2006-09-02T15:49:23.000Z      416    4.894231   116262           0\n"
       ]
      }
     ],
     "prompt_number": 5
    },
    {
     "cell_type": "code",
     "collapsed": false,
     "input": [],
     "language": "python",
     "metadata": {},
     "outputs": []
    }
   ],
   "metadata": {}
  }
 ]
}