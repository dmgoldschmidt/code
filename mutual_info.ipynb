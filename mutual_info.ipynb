{
 "metadata": {
  "name": "mutual_info"
 },
 "nbformat": 3,
 "nbformat_minor": 0,
 "worksheets": [
  {
   "cells": [
    {
     "cell_type": "raw",
     "metadata": {},
     "source": [
      "This program asks whether the \"left-right\" bit in the comedy_comparisons data set is significant"
     ]
    },
    {
     "cell_type": "code",
     "collapsed": false,
     "input": [
      "import logging\n",
      "from logging import debug, info, error\n",
      "import os.path\n",
      "from pandas import Series, DataFrame\n",
      "import pandas as pd\n",
      "import numpy as np\n",
      "import statsmodels.api as sm\n",
      "from math import log\n",
      "import scipy.stats\n"
     ],
     "language": "python",
     "metadata": {},
     "outputs": [],
     "prompt_number": 1
    },
    {
     "cell_type": "raw",
     "metadata": {},
     "source": [
      "This function computes the mutual information for a joint binary distribution and returns a 3-element ndarray info, where\n",
      "info[0] is the mutual information (in nats), info[1](resp. info[2]) is the relative information gain for the row (resp. col.) variable"
     ]
    },
    {
     "cell_type": "code",
     "collapsed": false,
     "input": [
      "def mutual_info(d): # compute mutual info for 2x2 distr. d\n",
      "    p = d[0,0] + d[0,1]\n",
      "    q = d[0,0] + d[1,0]\n",
      "    \n",
      "    try:\n",
      "        mut_info = d[0,0]*log(d[0,0]/(p*q))\\\n",
      "            + d[0,1]*log(d[0,1]/(p*(1-q)))\\\n",
      "            + d[1,0]*log(d[1,0]/((1-p)*q))\\\n",
      "            + d[1,1]*log(d[1,1]/((1-p)*(1-q)))\n",
      "    except:\n",
      "        print d\n",
      "        exit()\n",
      "    info = np.zeros(3)\n",
      "    info[0] = mut_info\n",
      "    info[1] = -mut_info/(p*log(p)+(1-p)*log(1-p))\n",
      "    info[2] = -mut_info/(q*log(q)+(1-q)*log(1-q))\n",
      "    return info\n"
     ],
     "language": "python",
     "metadata": {},
     "outputs": [],
     "prompt_number": 2
    },
    {
     "cell_type": "raw",
     "metadata": {},
     "source": [
      "This function computes the contingency chi-square"
     ]
    },
    {
     "cell_type": "code",
     "collapsed": false,
     "input": [
      "def contingency_chisq(a):\n",
      "    p = a[0,0] + a[0,1]\n",
      "    q = a[0,0] + a[1,0]\n",
      "    n = p + a[1,0] + a[1,1]\n",
      "    obs = np.array([a[0,0],a[0,1],a[1,0],a[1,1]])\n",
      "    exp = np.array([p*q/n,p*(n-q)/n,(n-p)*q/n,(n-p)*(n-q)/n])\n",
      "#    print \"observed: \", obs\n",
      "#    print \"expected: \", exp\n",
      "    ret = scipy.stats.chisquare(obs,exp,1)\n",
      "    return ret\n"
     ],
     "language": "python",
     "metadata": {},
     "outputs": [],
     "prompt_number": 3
    },
    {
     "cell_type": "code",
     "collapsed": false,
     "input": [
      "def main():\n",
      "    # read the data into a DataFrame\n",
      "    data = pd.read_csv('Data/comedy_comparisons/comedy_comparisons.train', names=['left', 'right', 'winner'])\n",
      "\n",
      "    cont_tbl = dict() # we will get a contingency table for each unique video id\n",
      "    file = open('unique_ids',\"r\")\n",
      "    ids = [x.rstrip() for x in file.readlines()]\n",
      "\n",
      "    # ok, we have a list of the unique ids\n",
      "    for id in ids:\n",
      "        cont_tbl[id] = np.ones((2,2)) # flatten the table\n",
      "    j = 0\n",
      "    for i in data.index:\n",
      "        # row 0: won, row 1: lost\n",
      "        # col 0: left, col 1: right\n",
      "        if data['winner'][i] == 'left':\n",
      "            cont_tbl[data['left'][i]][0,0] += 1\n",
      "            cont_tbl[data['right'][i]][1,1] += 1\n",
      "        else:\n",
      "            cont_tbl[data['left'][i]][1,0] += 1\n",
      "            cont_tbl[data['right'][i]][0,1] += 1\n",
      "        j += 1\n",
      "    print \"total views: \",j\n",
      "    avg_info = 0\n",
      "    tot_count = 0\n",
      "    min_chisq = 0\n",
      "    max_info = np.zeros(3)\n",
      "    max_info_id = \"\"\n",
      "    k = 0;\n",
      "    big_hits = 0\n",
      "    for id in ids: # compute mutual info for this id\n",
      "        a = cont_tbl[id]\n",
      "        n = a[0,0]+a[0,1]+a[1,0]+a[1,1]\n",
      "        if n < 24:\n",
      "            continue #counts too low for significance\n",
      "        d = a/n\n",
      "        info = mutual_info(d)\n",
      "        pval = contingency_chisq(a)[1]\n",
      "        k += 1\n",
      "        if k <= 10:\n",
      "            print \"cont_tbl[\"+id+\"]:\\n\",d\n",
      "            print \"nviews: \",n,\"info: \",info/log(2),\" bits\"\n",
      "            print \"chi-sq pval: \",pval\n",
      "        tot_count += n\n",
      "        avg_info += n*info\n",
      "        if info[0] > max_info[0]:\n",
      "            max_info = info\n",
      "            max_info_id = id\n",
      "            min_chisq = pval*18474\n",
      "        if info[1] >= .05:\n",
      "            print \"entropy reduction for \"+id+\": \",info[1], \"total views: \",n\n",
      "            big_hits += 1\n",
      "            if n > 100:\n",
      "                print a\n",
      "                print \"contingency chi-square: \", pval*18474\n",
      "\n",
      "    print \"total count: \",tot_count,\" avg mutual info: \",avg_info/(tot_count*log(2)),\" bits \"\n",
      "    print \"max. mutual info: \",max_info,\" for cont_tbl[\"+max_info_id+\"]:\\n\",cont_tbl[max_info_id]\n",
      "    print \"contingency chisq: \",min_chisq\n",
      "    print big_hits,\" ids had 5% or more info gain from right-left bit\"\n"
     ],
     "language": "python",
     "metadata": {},
     "outputs": [],
     "prompt_number": 5
    },
    {
     "cell_type": "code",
     "collapsed": false,
     "input": [],
     "language": "python",
     "metadata": {},
     "outputs": []
    }
   ],
   "metadata": {}
  }
 ]
}